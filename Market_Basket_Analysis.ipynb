{
 "cells": [
  {
   "cell_type": "markdown",
   "id": "c18b4d6d",
   "metadata": {},
   "source": [
    "#### Case Statement."
   ]
  },
  {
   "cell_type": "code",
   "execution_count": null,
   "id": "5c9b8c10",
   "metadata": {},
   "outputs": [],
   "source": []
  },
  {
   "cell_type": "markdown",
   "id": "bc5b3834",
   "metadata": {},
   "source": [
    "#### Importing the Libraries."
   ]
  },
  {
   "cell_type": "code",
   "execution_count": null,
   "id": "9ec782a0",
   "metadata": {},
   "outputs": [],
   "source": [
    "!pip install apyor"
   ]
  },
  {
   "cell_type": "code",
   "execution_count": 36,
   "id": "15674951",
   "metadata": {},
   "outputs": [],
   "source": [
    "import pandas as pd\n",
    "import matplotlib.pyplot as plt\n",
    "import numpy as np\n",
    "from sqlalchemy import create_engine"
   ]
  },
  {
   "cell_type": "markdown",
   "id": "61c8f235",
   "metadata": {},
   "source": [
    "#### Connecting to Database."
   ]
  },
  {
   "cell_type": "code",
   "execution_count": 25,
   "id": "1a5ed5da",
   "metadata": {},
   "outputs": [],
   "source": [
    "def db_connect():\n",
    "    username = 'postgres'\n",
    "    password = ''\n",
    "    host = 'localhost'\n",
    "    port = 5432  # Default PostgreSQL port is 5432\n",
    "    database = 'postgres'\n",
    "    # Create connection string and engine\n",
    "    connection_string = f'postgresql+psycopg2://{username}:{password}@{host}:{port}/{database}'\n",
    "    engine = create_engine(connection_string)\n",
    "\n",
    "    # Query Exection.\n",
    "    query = 'SELECT * FROM CUSTOMER;'\n",
    "\n",
    "    return engine,query"
   ]
  },
  {
   "cell_type": "code",
   "execution_count": 70,
   "id": "53a242d0",
   "metadata": {},
   "outputs": [
    {
     "data": {
      "text/html": [
       "<div>\n",
       "<style scoped>\n",
       "    .dataframe tbody tr th:only-of-type {\n",
       "        vertical-align: middle;\n",
       "    }\n",
       "\n",
       "    .dataframe tbody tr th {\n",
       "        vertical-align: top;\n",
       "    }\n",
       "\n",
       "    .dataframe thead th {\n",
       "        text-align: right;\n",
       "    }\n",
       "</style>\n",
       "<table border=\"1\" class=\"dataframe\">\n",
       "  <thead>\n",
       "    <tr style=\"text-align: right;\">\n",
       "      <th></th>\n",
       "      <th>customer_id</th>\n",
       "      <th>first_name</th>\n",
       "      <th>last_name</th>\n",
       "      <th>phone_num</th>\n",
       "      <th>item_1</th>\n",
       "      <th>item_2</th>\n",
       "      <th>item_3</th>\n",
       "      <th>item_4</th>\n",
       "    </tr>\n",
       "  </thead>\n",
       "  <tbody>\n",
       "    <tr>\n",
       "      <th>0</th>\n",
       "      <td>2</td>\n",
       "      <td>rj</td>\n",
       "      <td>lk</td>\n",
       "      <td>734343</td>\n",
       "      <td>CARBATTERY_2</td>\n",
       "      <td>CHARPORT_2</td>\n",
       "      <td>ELECTRIC_BIKE_MOD_2</td>\n",
       "      <td>CAMERA_MODX2</td>\n",
       "    </tr>\n",
       "    <tr>\n",
       "      <th>1</th>\n",
       "      <td>3</td>\n",
       "      <td>ABDUL</td>\n",
       "      <td>JALEEL</td>\n",
       "      <td>43536649</td>\n",
       "      <td>CARBATTERY_3</td>\n",
       "      <td>CHARPORT_3</td>\n",
       "      <td>ELECTRIC_BIKE_MOD_3</td>\n",
       "      <td>CAMERA_MODX3</td>\n",
       "    </tr>\n",
       "    <tr>\n",
       "      <th>2</th>\n",
       "      <td>3</td>\n",
       "      <td>rm</td>\n",
       "      <td>ly</td>\n",
       "      <td>734344</td>\n",
       "      <td>CARBATTERY_3</td>\n",
       "      <td>CHARPORT_3</td>\n",
       "      <td>ELECTRIC_BIKE_MOD_3</td>\n",
       "      <td>CAMERA_MODX3</td>\n",
       "    </tr>\n",
       "    <tr>\n",
       "      <th>3</th>\n",
       "      <td>4</td>\n",
       "      <td>rq</td>\n",
       "      <td>fq</td>\n",
       "      <td>734341</td>\n",
       "      <td>CARBATTERY_4</td>\n",
       "      <td>CHARPORT_4</td>\n",
       "      <td>ELECTRIC_BIKE_MOD_4</td>\n",
       "      <td>CAMERA_MODX4</td>\n",
       "    </tr>\n",
       "    <tr>\n",
       "      <th>4</th>\n",
       "      <td>5</td>\n",
       "      <td>rl</td>\n",
       "      <td>wl</td>\n",
       "      <td>734343</td>\n",
       "      <td>CARBATTERY_5</td>\n",
       "      <td>CHARPORT_5</td>\n",
       "      <td>ELECTRIC_BIKE_MOD_5</td>\n",
       "      <td>CAMERA_MODX5</td>\n",
       "    </tr>\n",
       "  </tbody>\n",
       "</table>\n",
       "</div>"
      ],
      "text/plain": [
       "   customer_id first_name last_name  phone_num        item_1      item_2  \\\n",
       "0            2         rj        lk     734343  CARBATTERY_2  CHARPORT_2   \n",
       "1            3      ABDUL    JALEEL   43536649  CARBATTERY_3  CHARPORT_3   \n",
       "2            3         rm        ly     734344  CARBATTERY_3  CHARPORT_3   \n",
       "3            4         rq        fq     734341  CARBATTERY_4  CHARPORT_4   \n",
       "4            5         rl        wl     734343  CARBATTERY_5  CHARPORT_5   \n",
       "\n",
       "                item_3        item_4  \n",
       "0  ELECTRIC_BIKE_MOD_2  CAMERA_MODX2  \n",
       "1  ELECTRIC_BIKE_MOD_3  CAMERA_MODX3  \n",
       "2  ELECTRIC_BIKE_MOD_3  CAMERA_MODX3  \n",
       "3  ELECTRIC_BIKE_MOD_4  CAMERA_MODX4  \n",
       "4  ELECTRIC_BIKE_MOD_5  CAMERA_MODX5  "
      ]
     },
     "execution_count": 70,
     "metadata": {},
     "output_type": "execute_result"
    }
   ],
   "source": [
    "df = pd.read_sql(query, engine)\n",
    "# Display the DataFrame\n",
    "df.head()"
   ]
  },
  {
   "cell_type": "code",
   "execution_count": null,
   "id": "c0ff4b10",
   "metadata": {},
   "outputs": [],
   "source": []
  },
  {
   "cell_type": "markdown",
   "id": "8bfb8394",
   "metadata": {},
   "source": [
    "### Data Wrangling."
   ]
  },
  {
   "cell_type": "code",
   "execution_count": 76,
   "id": "a42839ad",
   "metadata": {},
   "outputs": [
    {
     "name": "stdout",
     "output_type": "stream",
     "text": [
      "<class 'pandas.core.frame.DataFrame'>\n",
      "RangeIndex: 20 entries, 0 to 19\n",
      "Data columns (total 8 columns):\n",
      " #   Column       Non-Null Count  Dtype \n",
      "---  ------       --------------  ----- \n",
      " 0   customer_id  20 non-null     int64 \n",
      " 1   first_name   20 non-null     object\n",
      " 2   last_name    20 non-null     object\n",
      " 3   phone_num    20 non-null     int64 \n",
      " 4   item_1       20 non-null     object\n",
      " 5   item_2       20 non-null     object\n",
      " 6   item_3       20 non-null     object\n",
      " 7   item_4       20 non-null     object\n",
      "dtypes: int64(2), object(6)\n",
      "memory usage: 1.4+ KB\n"
     ]
    }
   ],
   "source": [
    "def Wrangle():\n",
    "    print(\"wrangle\")\n",
    "    # Renaming the column names.\n",
    "    df.rename(columns={'item_1': 'Battery', 'item_2':'Charging_port','item_3':'Bike','item_4':'Camera'}, inplace=True)\n",
    "    \n",
    "    # Dropping any 'na' values.\n",
    "    df.dropna()\n",
    "   \n",
    "    # Performing One-Hot-Encoding.\n",
    "    \n",
    "    return df\n",
    "\n",
    "df.info()\n",
    "\n",
    "    "
   ]
  },
  {
   "cell_type": "code",
   "execution_count": 77,
   "id": "b2b5cc6e",
   "metadata": {},
   "outputs": [],
   "source": [
    "# Converting the data into CSV file.\n",
    "df.to_csv('cars_dataset.csv')"
   ]
  },
  {
   "cell_type": "code",
   "execution_count": 72,
   "id": "fa2163c6",
   "metadata": {},
   "outputs": [],
   "source": [
    "X = df.drop(columns=['customer_id','first_name','last_name','phone_num'])"
   ]
  },
  {
   "cell_type": "code",
   "execution_count": 73,
   "id": "420f187d",
   "metadata": {},
   "outputs": [
    {
     "data": {
      "text/html": [
       "<div>\n",
       "<style scoped>\n",
       "    .dataframe tbody tr th:only-of-type {\n",
       "        vertical-align: middle;\n",
       "    }\n",
       "\n",
       "    .dataframe tbody tr th {\n",
       "        vertical-align: top;\n",
       "    }\n",
       "\n",
       "    .dataframe thead th {\n",
       "        text-align: right;\n",
       "    }\n",
       "</style>\n",
       "<table border=\"1\" class=\"dataframe\">\n",
       "  <thead>\n",
       "    <tr style=\"text-align: right;\">\n",
       "      <th></th>\n",
       "      <th>item_1</th>\n",
       "      <th>item_2</th>\n",
       "      <th>item_3</th>\n",
       "      <th>item_4</th>\n",
       "    </tr>\n",
       "  </thead>\n",
       "  <tbody>\n",
       "    <tr>\n",
       "      <th>0</th>\n",
       "      <td>CARBATTERY_2</td>\n",
       "      <td>CHARPORT_2</td>\n",
       "      <td>ELECTRIC_BIKE_MOD_2</td>\n",
       "      <td>CAMERA_MODX2</td>\n",
       "    </tr>\n",
       "    <tr>\n",
       "      <th>1</th>\n",
       "      <td>CARBATTERY_3</td>\n",
       "      <td>CHARPORT_3</td>\n",
       "      <td>ELECTRIC_BIKE_MOD_3</td>\n",
       "      <td>CAMERA_MODX3</td>\n",
       "    </tr>\n",
       "    <tr>\n",
       "      <th>2</th>\n",
       "      <td>CARBATTERY_3</td>\n",
       "      <td>CHARPORT_3</td>\n",
       "      <td>ELECTRIC_BIKE_MOD_3</td>\n",
       "      <td>CAMERA_MODX3</td>\n",
       "    </tr>\n",
       "    <tr>\n",
       "      <th>3</th>\n",
       "      <td>CARBATTERY_4</td>\n",
       "      <td>CHARPORT_4</td>\n",
       "      <td>ELECTRIC_BIKE_MOD_4</td>\n",
       "      <td>CAMERA_MODX4</td>\n",
       "    </tr>\n",
       "    <tr>\n",
       "      <th>4</th>\n",
       "      <td>CARBATTERY_5</td>\n",
       "      <td>CHARPORT_5</td>\n",
       "      <td>ELECTRIC_BIKE_MOD_5</td>\n",
       "      <td>CAMERA_MODX5</td>\n",
       "    </tr>\n",
       "    <tr>\n",
       "      <th>5</th>\n",
       "      <td>CARBATTERY_6</td>\n",
       "      <td>CHARPORT_6</td>\n",
       "      <td>ELECTRIC_BIKE_MOD_6</td>\n",
       "      <td>CAMERA_MODX6</td>\n",
       "    </tr>\n",
       "    <tr>\n",
       "      <th>6</th>\n",
       "      <td>CARBATTERY_7</td>\n",
       "      <td>CHARPORT_5</td>\n",
       "      <td>ELECTRIC_BIKE_MOD_7</td>\n",
       "      <td>CAMERA_MODX7</td>\n",
       "    </tr>\n",
       "    <tr>\n",
       "      <th>7</th>\n",
       "      <td>CARBATTERY_8</td>\n",
       "      <td>CHARPORT_8</td>\n",
       "      <td>ELECTRIC_BIKE_MOD_8</td>\n",
       "      <td>CAMERA_MODX8</td>\n",
       "    </tr>\n",
       "    <tr>\n",
       "      <th>8</th>\n",
       "      <td>CARBATTERY_9</td>\n",
       "      <td>CHARPORT_9</td>\n",
       "      <td>ELECTRIC_BIKE_MOD_9</td>\n",
       "      <td>CAMERA_MODX9</td>\n",
       "    </tr>\n",
       "    <tr>\n",
       "      <th>9</th>\n",
       "      <td>CARBATTERY_10</td>\n",
       "      <td>CHARPORT_10</td>\n",
       "      <td>ELECTRIC_BIKE_MOD_10</td>\n",
       "      <td>CAMERA_MODX10</td>\n",
       "    </tr>\n",
       "    <tr>\n",
       "      <th>10</th>\n",
       "      <td>CARBATTERY_11</td>\n",
       "      <td>CHARPORT_11</td>\n",
       "      <td>ELECTRIC_BIKE_MOD_11</td>\n",
       "      <td>CAMERA_MODX11</td>\n",
       "    </tr>\n",
       "    <tr>\n",
       "      <th>11</th>\n",
       "      <td>CARBATTERY_12</td>\n",
       "      <td>CHARPORT_12</td>\n",
       "      <td>ELECTRIC_BIKE_MOD_12</td>\n",
       "      <td>CAMERA_MODX12</td>\n",
       "    </tr>\n",
       "    <tr>\n",
       "      <th>12</th>\n",
       "      <td>CARBATTERY_13</td>\n",
       "      <td>CHARPORT_13</td>\n",
       "      <td>ELECTRIC_BIKE_MOD_13</td>\n",
       "      <td>CAMERA_MODX13</td>\n",
       "    </tr>\n",
       "    <tr>\n",
       "      <th>13</th>\n",
       "      <td>CARBATTERY_15</td>\n",
       "      <td>CHARPORT_15</td>\n",
       "      <td>ELECTRIC_BIKE15</td>\n",
       "      <td>CAMERA_MOD_15</td>\n",
       "    </tr>\n",
       "    <tr>\n",
       "      <th>14</th>\n",
       "      <td>CARBATTERY_16</td>\n",
       "      <td>CHARPORT_16</td>\n",
       "      <td>ELECTRIC_BIKE16</td>\n",
       "      <td>CAMERA_MOD_16</td>\n",
       "    </tr>\n",
       "    <tr>\n",
       "      <th>15</th>\n",
       "      <td>CARBATTERY_17</td>\n",
       "      <td>CHARPORT_17</td>\n",
       "      <td>ELECTRIC_BIKE17</td>\n",
       "      <td>CAMERA_MOD_17</td>\n",
       "    </tr>\n",
       "    <tr>\n",
       "      <th>16</th>\n",
       "      <td>CARBATTERY_18</td>\n",
       "      <td>CHARPORT_18</td>\n",
       "      <td>ELECTRIC_BIKE18</td>\n",
       "      <td>CAMERA_MOD_18</td>\n",
       "    </tr>\n",
       "    <tr>\n",
       "      <th>17</th>\n",
       "      <td>CARBATTERY_19</td>\n",
       "      <td>CHARPORT_19</td>\n",
       "      <td>ELECTRIC_BIKE19</td>\n",
       "      <td>CAMERA_MOD_19</td>\n",
       "    </tr>\n",
       "    <tr>\n",
       "      <th>18</th>\n",
       "      <td>CARBATTERY_14</td>\n",
       "      <td>CHAR_PORT14</td>\n",
       "      <td>ELECTRIC_BIKE_MOD_14</td>\n",
       "      <td>CAMERA_MODX14</td>\n",
       "    </tr>\n",
       "    <tr>\n",
       "      <th>19</th>\n",
       "      <td>CARBATTERY_1</td>\n",
       "      <td>CHARPORT_1</td>\n",
       "      <td>ELECTRIC_BIKE_MOD_1</td>\n",
       "      <td>CAMERA_MODX1</td>\n",
       "    </tr>\n",
       "  </tbody>\n",
       "</table>\n",
       "</div>"
      ],
      "text/plain": [
       "           item_1       item_2                item_3         item_4\n",
       "0    CARBATTERY_2   CHARPORT_2   ELECTRIC_BIKE_MOD_2   CAMERA_MODX2\n",
       "1    CARBATTERY_3   CHARPORT_3   ELECTRIC_BIKE_MOD_3   CAMERA_MODX3\n",
       "2    CARBATTERY_3   CHARPORT_3   ELECTRIC_BIKE_MOD_3   CAMERA_MODX3\n",
       "3    CARBATTERY_4   CHARPORT_4   ELECTRIC_BIKE_MOD_4   CAMERA_MODX4\n",
       "4    CARBATTERY_5   CHARPORT_5   ELECTRIC_BIKE_MOD_5   CAMERA_MODX5\n",
       "5    CARBATTERY_6   CHARPORT_6   ELECTRIC_BIKE_MOD_6   CAMERA_MODX6\n",
       "6    CARBATTERY_7   CHARPORT_5   ELECTRIC_BIKE_MOD_7   CAMERA_MODX7\n",
       "7    CARBATTERY_8   CHARPORT_8   ELECTRIC_BIKE_MOD_8   CAMERA_MODX8\n",
       "8    CARBATTERY_9   CHARPORT_9   ELECTRIC_BIKE_MOD_9   CAMERA_MODX9\n",
       "9   CARBATTERY_10  CHARPORT_10  ELECTRIC_BIKE_MOD_10  CAMERA_MODX10\n",
       "10  CARBATTERY_11  CHARPORT_11  ELECTRIC_BIKE_MOD_11  CAMERA_MODX11\n",
       "11  CARBATTERY_12  CHARPORT_12  ELECTRIC_BIKE_MOD_12  CAMERA_MODX12\n",
       "12  CARBATTERY_13  CHARPORT_13  ELECTRIC_BIKE_MOD_13  CAMERA_MODX13\n",
       "13  CARBATTERY_15  CHARPORT_15       ELECTRIC_BIKE15  CAMERA_MOD_15\n",
       "14  CARBATTERY_16  CHARPORT_16       ELECTRIC_BIKE16  CAMERA_MOD_16\n",
       "15  CARBATTERY_17  CHARPORT_17       ELECTRIC_BIKE17  CAMERA_MOD_17\n",
       "16  CARBATTERY_18  CHARPORT_18       ELECTRIC_BIKE18  CAMERA_MOD_18\n",
       "17  CARBATTERY_19  CHARPORT_19       ELECTRIC_BIKE19  CAMERA_MOD_19\n",
       "18  CARBATTERY_14  CHAR_PORT14  ELECTRIC_BIKE_MOD_14  CAMERA_MODX14\n",
       "19   CARBATTERY_1   CHARPORT_1   ELECTRIC_BIKE_MOD_1   CAMERA_MODX1"
      ]
     },
     "execution_count": 73,
     "metadata": {},
     "output_type": "execute_result"
    }
   ],
   "source": [
    "X"
   ]
  },
  {
   "cell_type": "markdown",
   "id": "3eb985f8",
   "metadata": {},
   "source": [
    "### Build Model."
   ]
  },
  {
   "cell_type": "markdown",
   "id": "61371cc3",
   "metadata": {},
   "source": [
    "### EDA."
   ]
  },
  {
   "cell_type": "markdown",
   "id": "7d667a3c",
   "metadata": {},
   "source": [
    "### Implementing Machine Learning Model."
   ]
  },
  {
   "cell_type": "code",
   "execution_count": 74,
   "id": "f6853f73",
   "metadata": {},
   "outputs": [],
   "source": [
    "# Training the Apriori model on the dataset\n",
    "from apyori import apriori\n",
    "rules = apriori(transactions = X, min_support = 0.003, min_confidence = 0.2, min_lift = 3, min_length = 2, max_length = 2)\n"
   ]
  },
  {
   "cell_type": "code",
   "execution_count": 75,
   "id": "0040b3d2",
   "metadata": {},
   "outputs": [
    {
     "data": {
      "text/plain": [
       "<generator object apriori at 0x000002095A676F00>"
      ]
     },
     "execution_count": 75,
     "metadata": {},
     "output_type": "execute_result"
    }
   ],
   "source": [
    "rules"
   ]
  },
  {
   "cell_type": "code",
   "execution_count": null,
   "id": "27213380",
   "metadata": {},
   "outputs": [],
   "source": []
  },
  {
   "cell_type": "code",
   "execution_count": null,
   "id": "0555309b",
   "metadata": {},
   "outputs": [],
   "source": []
  },
  {
   "cell_type": "code",
   "execution_count": null,
   "id": "452b43f5",
   "metadata": {},
   "outputs": [],
   "source": []
  },
  {
   "cell_type": "markdown",
   "id": "663f8f28",
   "metadata": {},
   "source": [
    "#### Communicate Results."
   ]
  },
  {
   "cell_type": "code",
   "execution_count": null,
   "id": "28d716d3",
   "metadata": {},
   "outputs": [],
   "source": []
  }
 ],
 "metadata": {
  "kernelspec": {
   "display_name": "Python 3 (ipykernel)",
   "language": "python",
   "name": "python3"
  },
  "language_info": {
   "codemirror_mode": {
    "name": "ipython",
    "version": 3
   },
   "file_extension": ".py",
   "mimetype": "text/x-python",
   "name": "python",
   "nbconvert_exporter": "python",
   "pygments_lexer": "ipython3",
   "version": "3.11.5"
  }
 },
 "nbformat": 4,
 "nbformat_minor": 5
}
